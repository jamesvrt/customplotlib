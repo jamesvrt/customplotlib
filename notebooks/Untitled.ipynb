{
 "cells": [
  {
   "cell_type": "code",
   "execution_count": 2,
   "id": "cd16cb93",
   "metadata": {},
   "outputs": [],
   "source": [
    "from customplotlib.customization.colors import *"
   ]
  },
  {
   "cell_type": "code",
   "execution_count": 3,
   "id": "16d87418",
   "metadata": {},
   "outputs": [
    {
     "data": {
      "text/plain": [
       "OrderedDict([('strong-blue', '#4C6FE7'),\n",
       "             ('strong-light-blue', '#B5C3FF'),\n",
       "             ('strong-off-white', '#F4F4F4'),\n",
       "             ('strong-off-black', '#2a2a2a'),\n",
       "             ('strong-dark-blue', '#3958C4'),\n",
       "             ('strong-dark-gray', '#4F4F4F')])"
      ]
     },
     "execution_count": 3,
     "metadata": {},
     "output_type": "execute_result"
    }
   ],
   "source": [
    "MAINS"
   ]
  },
  {
   "cell_type": "code",
   "execution_count": null,
   "id": "62061320",
   "metadata": {},
   "outputs": [],
   "source": []
  }
 ],
 "metadata": {
  "kernelspec": {
   "display_name": "Python 3 (ipykernel)",
   "language": "python",
   "name": "python3"
  },
  "language_info": {
   "codemirror_mode": {
    "name": "ipython",
    "version": 3
   },
   "file_extension": ".py",
   "mimetype": "text/x-python",
   "name": "python",
   "nbconvert_exporter": "python",
   "pygments_lexer": "ipython3",
   "version": "3.7.13"
  }
 },
 "nbformat": 4,
 "nbformat_minor": 5
}
